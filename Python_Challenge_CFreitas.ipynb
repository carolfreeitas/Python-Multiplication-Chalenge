{
 "cells": [
  {
   "cell_type": "markdown",
   "id": "69f4e819-7ddc-4be5-add1-104b95755587",
   "metadata": {},
   "source": [
    "--Assignement--\n",
    "Create and call a python function that : \n",
    "- stores a random integer A between 1 and 9\n",
    "- stores a random integer B between 1 and 9\n",
    "- multiplies A and B together as C\n",
    "- Prints A and C for every result until C = 4\n",
    "- If C = 4 , print ‘Success!’ and the results for A and B\n",
    "- Store your code on a GitHub account and share it with the email-address given in the SQL test, including your CV"
   ]
  },
  {
   "cell_type": "code",
   "execution_count": 6,
   "id": "42fd4dc3-d53b-4137-9b09-bd2f89454804",
   "metadata": {},
   "outputs": [
    {
     "name": "stdout",
     "output_type": "stream",
     "text": [
      "A: 6, C: 48\n",
      "A: 1, C: 1\n",
      "A: 5, C: 15\n",
      "A: 4, C: 32\n",
      "A: 7, C: 42\n",
      "A: 1, C: 9\n",
      "A: 7, C: 28\n",
      "A: 2, C: 8\n",
      "A: 6, C: 12\n",
      "A: 3, C: 9\n",
      "A: 2, C: 4\n",
      "Success!\n",
      "A: 2, B: 2\n"
     ]
    }
   ],
   "source": [
    "import random\n",
    "\n",
    "def multiplication_Nimbus():\n",
    "    while True: \n",
    "        A = random.randint(1, 9) #random integer\n",
    "        B = random.randint(1, 9) #random integer\n",
    "        C = A * B # multiplication of the random integers above                \n",
    "        print(f\"A: {A}, C: {C}\")\n",
    "               \n",
    "        if C == 4: #IF statement (if C ==4 , stop the printing after Sucess and A, B)\n",
    "            print(\"Success!\")\n",
    "            print(f\"A: {A}, B: {B}\")\n",
    "            break\n",
    "            \n",
    "\n",
    "multiplication_Nimbus()"
   ]
  }
 ],
 "metadata": {
  "kernelspec": {
   "display_name": "Python 3 (ipykernel)",
   "language": "python",
   "name": "python3"
  },
  "language_info": {
   "codemirror_mode": {
    "name": "ipython",
    "version": 3
   },
   "file_extension": ".py",
   "mimetype": "text/x-python",
   "name": "python",
   "nbconvert_exporter": "python",
   "pygments_lexer": "ipython3",
   "version": "3.9.15"
  }
 },
 "nbformat": 4,
 "nbformat_minor": 5
}
